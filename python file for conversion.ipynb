{
 "cells": [
  {
   "cell_type": "code",
   "execution_count": 6,
   "metadata": {},
   "outputs": [
    {
     "ename": "PermissionError",
     "evalue": "[Errno 13] Permission denied: 'D:\\\\major project'",
     "output_type": "error",
     "traceback": [
      "\u001b[1;31m---------------------------------------------------------------------------\u001b[0m",
      "\u001b[1;31mPermissionError\u001b[0m                           Traceback (most recent call last)",
      "Cell \u001b[1;32mIn[6], line 42\u001b[0m\n\u001b[0;32m     39\u001b[0m folder_path \u001b[38;5;241m=\u001b[39m \u001b[38;5;124m'\u001b[39m\u001b[38;5;124mendoscopy\u001b[39m\u001b[38;5;124m'\u001b[39m\n\u001b[0;32m     40\u001b[0m csv_file_path \u001b[38;5;241m=\u001b[39m \u001b[38;5;124m'\u001b[39m\u001b[38;5;124mD:\u001b[39m\u001b[38;5;124m\\\u001b[39m\u001b[38;5;124mmajor project\u001b[39m\u001b[38;5;124m'\u001b[39m\n\u001b[1;32m---> 42\u001b[0m \u001b[43mconvert_images_to_csv\u001b[49m\u001b[43m(\u001b[49m\u001b[43mfolder_path\u001b[49m\u001b[43m,\u001b[49m\u001b[43m \u001b[49m\u001b[43mcsv_file_path\u001b[49m\u001b[43m)\u001b[49m\n\u001b[0;32m     48\u001b[0m \u001b[38;5;66;03m# ... rest of your code ...\u001b[39;00m\n",
      "Cell \u001b[1;32mIn[6], line 24\u001b[0m, in \u001b[0;36mconvert_images_to_csv\u001b[1;34m(folder_path, csv_file_path)\u001b[0m\n\u001b[0;32m     23\u001b[0m \u001b[38;5;28;01mdef\u001b[39;00m \u001b[38;5;21mconvert_images_to_csv\u001b[39m(folder_path, csv_file_path):\n\u001b[1;32m---> 24\u001b[0m     \u001b[38;5;28;01mwith\u001b[39;00m \u001b[38;5;28;43mopen\u001b[39;49m\u001b[43m(\u001b[49m\u001b[43mcsv_file_path\u001b[49m\u001b[43m,\u001b[49m\u001b[43m \u001b[49m\u001b[38;5;124;43m'\u001b[39;49m\u001b[38;5;124;43mw\u001b[39;49m\u001b[38;5;124;43m'\u001b[39;49m\u001b[43m,\u001b[49m\u001b[43m \u001b[49m\u001b[43mnewline\u001b[49m\u001b[38;5;241;43m=\u001b[39;49m\u001b[38;5;124;43m'\u001b[39;49m\u001b[38;5;124;43m'\u001b[39;49m\u001b[43m)\u001b[49m \u001b[38;5;28;01mas\u001b[39;00m csv_file:\n\u001b[0;32m     25\u001b[0m         csv_writer \u001b[38;5;241m=\u001b[39m csv\u001b[38;5;241m.\u001b[39mwriter(csv_file)\n\u001b[0;32m     27\u001b[0m         \u001b[38;5;28;01mfor\u001b[39;00m filename \u001b[38;5;129;01min\u001b[39;00m \u001b[38;5;28msorted\u001b[39m(os\u001b[38;5;241m.\u001b[39mlistdir(folder_path)):\n",
      "File \u001b[1;32m~\\AppData\\Roaming\\Python\\Python310\\site-packages\\IPython\\core\\interactiveshell.py:310\u001b[0m, in \u001b[0;36m_modified_open\u001b[1;34m(file, *args, **kwargs)\u001b[0m\n\u001b[0;32m    303\u001b[0m \u001b[38;5;28;01mif\u001b[39;00m file \u001b[38;5;129;01min\u001b[39;00m {\u001b[38;5;241m0\u001b[39m, \u001b[38;5;241m1\u001b[39m, \u001b[38;5;241m2\u001b[39m}:\n\u001b[0;32m    304\u001b[0m     \u001b[38;5;28;01mraise\u001b[39;00m \u001b[38;5;167;01mValueError\u001b[39;00m(\n\u001b[0;32m    305\u001b[0m         \u001b[38;5;124mf\u001b[39m\u001b[38;5;124m\"\u001b[39m\u001b[38;5;124mIPython won\u001b[39m\u001b[38;5;124m'\u001b[39m\u001b[38;5;124mt let you open fd=\u001b[39m\u001b[38;5;132;01m{\u001b[39;00mfile\u001b[38;5;132;01m}\u001b[39;00m\u001b[38;5;124m by default \u001b[39m\u001b[38;5;124m\"\u001b[39m\n\u001b[0;32m    306\u001b[0m         \u001b[38;5;124m\"\u001b[39m\u001b[38;5;124mas it is likely to crash IPython. If you know what you are doing, \u001b[39m\u001b[38;5;124m\"\u001b[39m\n\u001b[0;32m    307\u001b[0m         \u001b[38;5;124m\"\u001b[39m\u001b[38;5;124myou can use builtins\u001b[39m\u001b[38;5;124m'\u001b[39m\u001b[38;5;124m open.\u001b[39m\u001b[38;5;124m\"\u001b[39m\n\u001b[0;32m    308\u001b[0m     )\n\u001b[1;32m--> 310\u001b[0m \u001b[38;5;28;01mreturn\u001b[39;00m io_open(file, \u001b[38;5;241m*\u001b[39margs, \u001b[38;5;241m*\u001b[39m\u001b[38;5;241m*\u001b[39mkwargs)\n",
      "\u001b[1;31mPermissionError\u001b[0m: [Errno 13] Permission denied: 'D:\\\\major project'"
     ]
    }
   ],
   "source": [
    "import os\n",
    "import csv\n",
    "import pydicom\n",
    "from PIL import Image\n",
    "import numpy as np\n",
    "\n",
    "\n",
    "import os\n",
    "\n",
    "def ensure_directory_exists(folder_path):\n",
    "    if not os.path.exists(folder_path):\n",
    "        os.makedirs(folder_path)\n",
    "\n",
    "# Before writing to the directory, ensure it exists\n",
    "ensure_directory_exists(csv_file_path)\n",
    "\n",
    "def dicom_to_image_array(dicom_file_path):\n",
    "    # Read DICOM file\n",
    "    ds = pydicom.dcmread(dicom_file_path)\n",
    "    # Convert to a numpy array and then to a PIL image\n",
    "    return Image.fromarray(ds.pixel_array).convert('RGB')\n",
    "\n",
    "def convert_images_to_csv(folder_path, csv_file_path):\n",
    "    with open(csv_file_path, 'w', newline='') as csv_file:\n",
    "        csv_writer = csv.writer(csv_file)\n",
    "\n",
    "        for filename in sorted(os.listdir(folder_path)):\n",
    "            if filename.lower().endswith('.dic'):\n",
    "                dicom_path = os.path.join(folder_path, filename)\n",
    "                try:\n",
    "                    img = dicom_to_image_array(dicom_path)\n",
    "                    img_array = np.array(img).flatten()\n",
    "                    csv_writer.writerow(img_array)\n",
    "                    print(f\"Processed {filename}\")\n",
    "                except Exception as e:\n",
    "                    print(f\"Error processing {filename}: {e}\")\n",
    "\n",
    "# Set your folder path containing .dic files and output CSV file path\n",
    "folder_path = 'endoscopy'\n",
    "csv_file_path = 'D:\\major project'\n",
    "\n",
    "convert_images_to_csv(folder_path, csv_file_path)\n",
    "\n",
    "\n",
    "\n",
    "\n",
    "\n",
    "# ... rest of your code ...\n"
   ]
  },
  {
   "cell_type": "code",
   "execution_count": 7,
   "metadata": {},
   "outputs": [],
   "source": [
    "import os\n",
    "import pydicom\n",
    "\n",
    "def read_dicom_images(folder_path):\n",
    "    images = []\n",
    "    for filename in os.listdir(folder_path):\n",
    "        if filename.lower().endswith('.dic'):\n",
    "            file_path = os.path.join(folder_path, filename)\n",
    "            try:\n",
    "                ds = pydicom.dcmread(file_path)\n",
    "                images.append(ds)\n",
    "                print(f\"Read file: {filename}\")\n",
    "            except Exception as e:\n",
    "                print(f\"Failed to read {filename}: {e}\")\n",
    "    return images\n",
    "\n",
    "# Specify your folder containing .dic files\n",
    "folder_path = 'endoscopy'\n",
    "\n",
    "# Read all DICOM images in the folder\n",
    "dicom_images = read_dicom_images(folder_path)\n"
   ]
  },
  {
   "cell_type": "code",
   "execution_count": 11,
   "metadata": {},
   "outputs": [
    {
     "data": {
      "text/plain": [
       "<Figure size 1000x1000 with 0 Axes>"
      ]
     },
     "metadata": {},
     "output_type": "display_data"
    }
   ],
   "source": [
    "import os\n",
    "import pydicom\n",
    "import matplotlib.pyplot as plt\n",
    "\n",
    "def read_dicom_images(folder_path):\n",
    "    images = []\n",
    "    for filename in os.listdir(folder_path):\n",
    "        if filename.lower().endswith('.dic'):\n",
    "            file_path = os.path.join(folder_path, filename)\n",
    "            try:\n",
    "                ds = pydicom.dcmread(file_path)\n",
    "                images.append(ds)\n",
    "            except Exception as e:\n",
    "                print(f\"Failed to read {filename}: {e}\")\n",
    "    return images\n",
    "\n",
    "def show_images(images, num_images=2):\n",
    "    plt.figure(figsize=(10, 10))\n",
    "    for i, image in enumerate(images[:num_images]):\n",
    "        plt.subplot(1, num_images, i + 1)\n",
    "        plt.imshow(image.pixel_array, cmap='gray')\n",
    "        plt.axis('off')\n",
    "    plt.show()\n",
    "\n",
    "# Specify your folder containing .dic files\n",
    "#folder_path = 'path/to/your/dicom_folder'\n",
    "\n",
    "# Read all DICOM images in the folder\n",
    "dicom_images = read_dicom_images(folder_path)\n",
    "\n",
    "# Display the first couple of images\n",
    "show_images(dicom_images, num_images=2)\n"
   ]
  },
  {
   "cell_type": "code",
   "execution_count": 14,
   "metadata": {},
   "outputs": [
    {
     "data": {
      "text/plain": [
       "<Figure size 1000x1000 with 0 Axes>"
      ]
     },
     "metadata": {},
     "output_type": "display_data"
    }
   ],
   "source": [
    "import os\n",
    "import pydicom\n",
    "import matplotlib.pyplot as plt\n",
    "\n",
    "def read_dicom_images(folder_path):\n",
    "    images = []\n",
    "    for filename in os.listdir(folder_path):\n",
    "        if filename.lower().endswith('.dic'):\n",
    "            file_path = os.path.join(folder_path, filename)\n",
    "            try:\n",
    "                ds = pydicom.dcmread(file_path)\n",
    "                images.append(ds)\n",
    "                print(f\"Read file: {filename}\")\n",
    "            except Exception as e:\n",
    "                print(f\"Failed to read {filename}: {e}\")\n",
    "    return images\n",
    "\n",
    "def show_images(images, num_images=2):\n",
    "    plt.figure(figsize=(10, 10))\n",
    "    for i, image in enumerate(images[:num_images]):\n",
    "        if hasattr(image, 'pixel_array'):\n",
    "            plt.subplot(1, num_images, i + 1)\n",
    "            plt.imshow(image.pixel_array, cmap='gray')\n",
    "            plt.axis('off')\n",
    "        else:\n",
    "            print(f\"Image {i} does not have pixel data.\")\n",
    "    plt.show()\n",
    "\n",
    "# Specify your folder containing .dic files\n",
    "folder_path = 'endoscopy'\n",
    "\n",
    "# Read all DICOM images in the folder\n",
    "dicom_images = read_dicom_images(folder_path)\n",
    "\n",
    "# Display the first couple of images\n",
    "show_images(dicom_images, num_images=2)\n"
   ]
  },
  {
   "cell_type": "code",
   "execution_count": null,
   "metadata": {},
   "outputs": [],
   "source": []
  }
 ],
 "metadata": {
  "kernelspec": {
   "display_name": "Python 3",
   "language": "python",
   "name": "python3"
  },
  "language_info": {
   "codemirror_mode": {
    "name": "ipython",
    "version": 3
   },
   "file_extension": ".py",
   "mimetype": "text/x-python",
   "name": "python",
   "nbconvert_exporter": "python",
   "pygments_lexer": "ipython3",
   "version": "3.10.10"
  }
 },
 "nbformat": 4,
 "nbformat_minor": 2
}
